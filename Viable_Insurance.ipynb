{
 "cells": [
  {
   "cell_type": "markdown",
   "metadata": {},
   "source": [
    "## Viable Insurance Client Information "
   ]
  },
  {
   "cell_type": "code",
   "execution_count": 1,
   "metadata": {},
   "outputs": [
    {
     "data": {
      "text/html": [
       "<div>\n",
       "<style scoped>\n",
       "    .dataframe tbody tr th:only-of-type {\n",
       "        vertical-align: middle;\n",
       "    }\n",
       "\n",
       "    .dataframe tbody tr th {\n",
       "        vertical-align: top;\n",
       "    }\n",
       "\n",
       "    .dataframe thead th {\n",
       "        text-align: right;\n",
       "    }\n",
       "</style>\n",
       "<table border=\"1\" class=\"dataframe\">\n",
       "  <thead>\n",
       "    <tr style=\"text-align: right;\">\n",
       "      <th></th>\n",
       "      <th>Education</th>\n",
       "      <th>EmploymentStatus</th>\n",
       "      <th>Income</th>\n",
       "      <th>Marital Status</th>\n",
       "      <th>Coverage</th>\n",
       "      <th>Gender</th>\n",
       "      <th>Location Code</th>\n",
       "      <th>Monthly Premium Auto</th>\n",
       "      <th>Months Since Last Claim</th>\n",
       "      <th>Months Since Policy Inception</th>\n",
       "      <th>Number of Open Complaints</th>\n",
       "      <th>Number of Policies</th>\n",
       "      <th>Claim Reason</th>\n",
       "      <th>Sales Channel</th>\n",
       "    </tr>\n",
       "    <tr>\n",
       "      <th>id</th>\n",
       "      <th></th>\n",
       "      <th></th>\n",
       "      <th></th>\n",
       "      <th></th>\n",
       "      <th></th>\n",
       "      <th></th>\n",
       "      <th></th>\n",
       "      <th></th>\n",
       "      <th></th>\n",
       "      <th></th>\n",
       "      <th></th>\n",
       "      <th></th>\n",
       "      <th></th>\n",
       "      <th></th>\n",
       "    </tr>\n",
       "  </thead>\n",
       "  <tbody>\n",
       "    <tr>\n",
       "      <th>0</th>\n",
       "      <td>College</td>\n",
       "      <td>Disabled</td>\n",
       "      <td>20819</td>\n",
       "      <td>Married</td>\n",
       "      <td>Extended</td>\n",
       "      <td>F</td>\n",
       "      <td>Rural</td>\n",
       "      <td>72</td>\n",
       "      <td>22</td>\n",
       "      <td>72</td>\n",
       "      <td>2</td>\n",
       "      <td>1</td>\n",
       "      <td>Hail</td>\n",
       "      <td>Branch</td>\n",
       "    </tr>\n",
       "    <tr>\n",
       "      <th>1</th>\n",
       "      <td>Bachelor</td>\n",
       "      <td>Employed</td>\n",
       "      <td>35624</td>\n",
       "      <td>Single</td>\n",
       "      <td>Basic</td>\n",
       "      <td>F</td>\n",
       "      <td>Suburban</td>\n",
       "      <td>61</td>\n",
       "      <td>22</td>\n",
       "      <td>37</td>\n",
       "      <td>0</td>\n",
       "      <td>1</td>\n",
       "      <td>Hail</td>\n",
       "      <td>Web</td>\n",
       "    </tr>\n",
       "    <tr>\n",
       "      <th>2</th>\n",
       "      <td>High School or Below</td>\n",
       "      <td>Employed</td>\n",
       "      <td>32272</td>\n",
       "      <td>Married</td>\n",
       "      <td>Basic</td>\n",
       "      <td>F</td>\n",
       "      <td>Suburban</td>\n",
       "      <td>104</td>\n",
       "      <td>1</td>\n",
       "      <td>78</td>\n",
       "      <td>0</td>\n",
       "      <td>7</td>\n",
       "      <td>Other</td>\n",
       "      <td>Call Center</td>\n",
       "    </tr>\n",
       "    <tr>\n",
       "      <th>3</th>\n",
       "      <td>Master</td>\n",
       "      <td>Employed</td>\n",
       "      <td>48015</td>\n",
       "      <td>Married</td>\n",
       "      <td>Extended</td>\n",
       "      <td>F</td>\n",
       "      <td>Rural</td>\n",
       "      <td>80</td>\n",
       "      <td>34</td>\n",
       "      <td>82</td>\n",
       "      <td>3</td>\n",
       "      <td>1</td>\n",
       "      <td>Other</td>\n",
       "      <td>Call Center</td>\n",
       "    </tr>\n",
       "    <tr>\n",
       "      <th>4</th>\n",
       "      <td>College</td>\n",
       "      <td>Disabled</td>\n",
       "      <td>26156</td>\n",
       "      <td>Single</td>\n",
       "      <td>Basic</td>\n",
       "      <td>F</td>\n",
       "      <td>Urban</td>\n",
       "      <td>72</td>\n",
       "      <td>10</td>\n",
       "      <td>41</td>\n",
       "      <td>0</td>\n",
       "      <td>1</td>\n",
       "      <td>Collision</td>\n",
       "      <td>Agent</td>\n",
       "    </tr>\n",
       "  </tbody>\n",
       "</table>\n",
       "</div>"
      ],
      "text/plain": [
       "               Education EmploymentStatus  Income Marital Status  Coverage  \\\n",
       "id                                                                           \n",
       "0                College         Disabled   20819        Married  Extended   \n",
       "1               Bachelor         Employed   35624         Single     Basic   \n",
       "2   High School or Below         Employed   32272        Married     Basic   \n",
       "3                 Master         Employed   48015        Married  Extended   \n",
       "4                College         Disabled   26156         Single     Basic   \n",
       "\n",
       "   Gender Location Code  Monthly Premium Auto  Months Since Last Claim  \\\n",
       "id                                                                       \n",
       "0       F         Rural                    72                       22   \n",
       "1       F      Suburban                    61                       22   \n",
       "2       F      Suburban                   104                        1   \n",
       "3       F         Rural                    80                       34   \n",
       "4       F         Urban                    72                       10   \n",
       "\n",
       "    Months Since Policy Inception  Number of Open Complaints  \\\n",
       "id                                                             \n",
       "0                              72                          2   \n",
       "1                              37                          0   \n",
       "2                              78                          0   \n",
       "3                              82                          3   \n",
       "4                              41                          0   \n",
       "\n",
       "    Number of Policies Claim Reason Sales Channel  \n",
       "id                                                 \n",
       "0                    1         Hail        Branch  \n",
       "1                    1         Hail           Web  \n",
       "2                    7        Other   Call Center  \n",
       "3                    1        Other   Call Center  \n",
       "4                    1    Collision         Agent  "
      ]
     },
     "execution_count": 1,
     "metadata": {},
     "output_type": "execute_result"
    }
   ],
   "source": [
    "import pandas as pd\n",
    "viable = pd.read_csv(\"Viable_Insurance.csv\",index_col=0)\n",
    "viable.head(5)"
   ]
  },
  {
   "cell_type": "markdown",
   "metadata": {},
   "source": [
    "# Client Backgrounds"
   ]
  },
  {
   "cell_type": "markdown",
   "metadata": {},
   "source": [
    "## 1) Education "
   ]
  },
  {
   "cell_type": "code",
   "execution_count": 2,
   "metadata": {},
   "outputs": [
    {
     "data": {
      "text/plain": [
       "College                 1523\n",
       "High School or Below    1458\n",
       "Bachelor                1443\n",
       "Master                   396\n",
       "Doctor                   180\n",
       "Name: Education, dtype: int64"
      ]
     },
     "execution_count": 2,
     "metadata": {},
     "output_type": "execute_result"
    }
   ],
   "source": [
    "education=viable[\"Education\"]\n",
    "education_count=education.value_counts()\n",
    "education_count"
   ]
  },
  {
   "cell_type": "markdown",
   "metadata": {},
   "source": [
    "## 2) Exmployment"
   ]
  },
  {
   "cell_type": "code",
   "execution_count": 3,
   "metadata": {
    "scrolled": true
   },
   "outputs": [
    {
     "data": {
      "text/plain": [
       "Employed         3124\n",
       "Unemployed       1270\n",
       "Disabled          241\n",
       "Medical Leave     234\n",
       "Retired           131\n",
       "Name: EmploymentStatus, dtype: int64"
      ]
     },
     "execution_count": 3,
     "metadata": {},
     "output_type": "execute_result"
    }
   ],
   "source": [
    "employment=viable[\"EmploymentStatus\"]\n",
    "employment_count=employment.value_counts()\n",
    "employment_count"
   ]
  },
  {
   "cell_type": "markdown",
   "metadata": {},
   "source": [
    "## 3) Income"
   ]
  },
  {
   "cell_type": "code",
   "execution_count": 4,
   "metadata": {},
   "outputs": [
    {
     "data": {
      "text/plain": [
       "count     5000.000000\n",
       "mean     37915.415800\n",
       "std      30516.918542\n",
       "min          0.000000\n",
       "25%          0.000000\n",
       "50%      34738.000000\n",
       "75%      62531.750000\n",
       "max      99981.000000\n",
       "Name: Income, dtype: float64"
      ]
     },
     "execution_count": 4,
     "metadata": {},
     "output_type": "execute_result"
    }
   ],
   "source": [
    "income=viable[\"Income\"]\n",
    "income.describe()"
   ]
  },
  {
   "cell_type": "code",
   "execution_count": 5,
   "metadata": {},
   "outputs": [
    {
     "data": {
      "text/plain": [
       "low income       2281\n",
       "high income      1389\n",
       "middle income    1330\n",
       "Name: Income, dtype: int64"
      ]
     },
     "execution_count": 5,
     "metadata": {},
     "output_type": "execute_result"
    }
   ],
   "source": [
    "viable.loc[income<=30000,\"Income\"]=\"low income\"\n",
    "viable.loc[(income>30000) & (income<=60000),\"Income\"]=\"middle income\"\n",
    "viable.loc[(income>60000),\"Income\"]=\"high income\"\n",
    "viable[\"Income\"].value_counts()"
   ]
  },
  {
   "cell_type": "markdown",
   "metadata": {},
   "source": [
    "## 4) Marital Status"
   ]
  },
  {
   "cell_type": "code",
   "execution_count": 6,
   "metadata": {},
   "outputs": [
    {
     "data": {
      "text/plain": [
       "Married     2918\n",
       "Single      1353\n",
       "Divorced     729\n",
       "Name: Marital Status, dtype: int64"
      ]
     },
     "execution_count": 6,
     "metadata": {},
     "output_type": "execute_result"
    }
   ],
   "source": [
    "marital_Status=viable[\"Marital Status\"]\n",
    "marital_Status.value_counts()"
   ]
  },
  {
   "cell_type": "markdown",
   "metadata": {},
   "source": [
    "## 5) Gender"
   ]
  },
  {
   "cell_type": "code",
   "execution_count": 7,
   "metadata": {},
   "outputs": [
    {
     "data": {
      "text/plain": [
       "F    2567\n",
       "M    2433\n",
       "Name: Gender, dtype: int64"
      ]
     },
     "execution_count": 7,
     "metadata": {},
     "output_type": "execute_result"
    }
   ],
   "source": [
    "gender=viable[\"Gender\"]\n",
    "gender.value_counts()"
   ]
  },
  {
   "cell_type": "markdown",
   "metadata": {},
   "source": [
    "## 6) Location"
   ]
  },
  {
   "cell_type": "code",
   "execution_count": 8,
   "metadata": {},
   "outputs": [
    {
     "data": {
      "text/plain": [
       "Suburban    3186\n",
       "Rural        966\n",
       "Urban        848\n",
       "Name: Location Code, dtype: int64"
      ]
     },
     "execution_count": 8,
     "metadata": {},
     "output_type": "execute_result"
    }
   ],
   "source": [
    "location=viable[\"Location Code\"]\n",
    "location.value_counts()"
   ]
  },
  {
   "cell_type": "markdown",
   "metadata": {},
   "source": [
    "## Main Customer Group"
   ]
  },
  {
   "cell_type": "code",
   "execution_count": 9,
   "metadata": {},
   "outputs": [
    {
     "data": {
      "text/plain": [
       "High School or Below, Employed, high income, Married, Suburban      187\n",
       "College, Employed, middle income, Married, Suburban                 182\n",
       "Bachelor, Employed, high income, Married, Suburban                  182\n",
       "College, Employed, high income, Married, Suburban                   175\n",
       "High School or Below, Unemployed, low income, Single, Suburban      169\n",
       "High School or Below, Employed, middle income, Married, Suburban    168\n",
       "College, Unemployed, low income, Single, Suburban                   153\n",
       "Bachelor, Employed, middle income, Married, Suburban                144\n",
       "Bachelor, Unemployed, low income, Single, Suburban                  133\n",
       "Bachelor, Unemployed, low income, Married, Suburban                  84\n",
       "dtype: int64"
      ]
     },
     "execution_count": 9,
     "metadata": {},
     "output_type": "execute_result"
    }
   ],
   "source": [
    "main=viable[\"Education\"]+ \", \"+viable[\"EmploymentStatus\"]+\", \"+viable[\"Income\"]+\", \"+viable[\"Marital Status\"]+\", \"+viable[\"Location Code\"]\n",
    "main.value_counts()[0:10]"
   ]
  },
  {
   "cell_type": "markdown",
   "metadata": {},
   "source": [
    "## Conclusion"
   ]
  },
  {
   "cell_type": "markdown",
   "metadata": {},
   "source": [
    "From the above analysis, we conclude that our main client target is post secodary school education or below, employed, married people living in suburban area."
   ]
  },
  {
   "cell_type": "markdown",
   "metadata": {},
   "source": [
    "# Insurance Covereage/Policy Info"
   ]
  },
  {
   "cell_type": "markdown",
   "metadata": {},
   "source": [
    "## Coverage"
   ]
  },
  {
   "cell_type": "code",
   "execution_count": 10,
   "metadata": {},
   "outputs": [
    {
     "data": {
      "text/plain": [
       "Basic       3057\n",
       "Extended    1500\n",
       "Premium      443\n",
       "Name: Coverage, dtype: int64"
      ]
     },
     "execution_count": 10,
     "metadata": {},
     "output_type": "execute_result"
    }
   ],
   "source": [
    "coverage=viable[\"Coverage\"]\n",
    "coverage.value_counts()"
   ]
  },
  {
   "cell_type": "markdown",
   "metadata": {},
   "source": [
    "## Policy Info"
   ]
  },
  {
   "cell_type": "code",
   "execution_count": 11,
   "metadata": {},
   "outputs": [
    {
     "data": {
      "text/html": [
       "<div>\n",
       "<style scoped>\n",
       "    .dataframe tbody tr th:only-of-type {\n",
       "        vertical-align: middle;\n",
       "    }\n",
       "\n",
       "    .dataframe tbody tr th {\n",
       "        vertical-align: top;\n",
       "    }\n",
       "\n",
       "    .dataframe thead th {\n",
       "        text-align: right;\n",
       "    }\n",
       "</style>\n",
       "<table border=\"1\" class=\"dataframe\">\n",
       "  <thead>\n",
       "    <tr style=\"text-align: right;\">\n",
       "      <th></th>\n",
       "      <th>Monthly Premium Auto</th>\n",
       "      <th>Months Since Policy Inception</th>\n",
       "      <th>Number of Policies</th>\n",
       "    </tr>\n",
       "  </thead>\n",
       "  <tbody>\n",
       "    <tr>\n",
       "      <th>count</th>\n",
       "      <td>5000.000000</td>\n",
       "      <td>5000.000000</td>\n",
       "      <td>5000.000000</td>\n",
       "    </tr>\n",
       "    <tr>\n",
       "      <th>mean</th>\n",
       "      <td>93.613800</td>\n",
       "      <td>48.500400</td>\n",
       "      <td>2.933000</td>\n",
       "    </tr>\n",
       "    <tr>\n",
       "      <th>std</th>\n",
       "      <td>35.320506</td>\n",
       "      <td>27.888362</td>\n",
       "      <td>2.392333</td>\n",
       "    </tr>\n",
       "    <tr>\n",
       "      <th>min</th>\n",
       "      <td>61.000000</td>\n",
       "      <td>0.000000</td>\n",
       "      <td>1.000000</td>\n",
       "    </tr>\n",
       "    <tr>\n",
       "      <th>25%</th>\n",
       "      <td>68.000000</td>\n",
       "      <td>24.000000</td>\n",
       "      <td>1.000000</td>\n",
       "    </tr>\n",
       "    <tr>\n",
       "      <th>50%</th>\n",
       "      <td>83.000000</td>\n",
       "      <td>49.000000</td>\n",
       "      <td>2.000000</td>\n",
       "    </tr>\n",
       "    <tr>\n",
       "      <th>75%</th>\n",
       "      <td>109.000000</td>\n",
       "      <td>72.000000</td>\n",
       "      <td>4.000000</td>\n",
       "    </tr>\n",
       "    <tr>\n",
       "      <th>max</th>\n",
       "      <td>298.000000</td>\n",
       "      <td>99.000000</td>\n",
       "      <td>9.000000</td>\n",
       "    </tr>\n",
       "  </tbody>\n",
       "</table>\n",
       "</div>"
      ],
      "text/plain": [
       "       Monthly Premium Auto  Months Since Policy Inception  Number of Policies\n",
       "count           5000.000000                    5000.000000         5000.000000\n",
       "mean              93.613800                      48.500400            2.933000\n",
       "std               35.320506                      27.888362            2.392333\n",
       "min               61.000000                       0.000000            1.000000\n",
       "25%               68.000000                      24.000000            1.000000\n",
       "50%               83.000000                      49.000000            2.000000\n",
       "75%              109.000000                      72.000000            4.000000\n",
       "max              298.000000                      99.000000            9.000000"
      ]
     },
     "execution_count": 11,
     "metadata": {},
     "output_type": "execute_result"
    }
   ],
   "source": [
    "monthly_premium=viable[[\"Monthly Premium Auto\",\"Months Since Policy Inception\",\"Number of Policies\"]]\n",
    "monthly_premium.describe()"
   ]
  },
  {
   "cell_type": "code",
   "execution_count": 12,
   "metadata": {},
   "outputs": [
    {
     "name": "stdout",
     "output_type": "stream",
     "text": [
      "Number of customers below 1 year: 625\n",
      "Number of customers over 1 year and below 5 years: 2453\n",
      "Number of customers over 5 year: 1922\n"
     ]
    }
   ],
   "source": [
    "inception=viable[\"Months Since Policy Inception\"]\n",
    "customers_new=viable[(inception<=12)]\n",
    "shape_new=customers_new.shape\n",
    "print(\"Number of customers below 1 year: \" + str(shape_new[0]))\n",
    "customers_middle=viable[(inception>12)&(inception<60)]\n",
    "shape_middle=customers_middle.shape\n",
    "print(\"Number of customers over 1 year and below 5 years: \" + str(shape_middle[0]))\n",
    "customers_old=viable[(inception>=60)]\n",
    "shape_old=customers_old.shape\n",
    "print(\"Number of customers over 5 year: \" + str(shape_old[0]))"
   ]
  },
  {
   "cell_type": "markdown",
   "metadata": {},
   "source": [
    "# Claims Info"
   ]
  },
  {
   "cell_type": "markdown",
   "metadata": {},
   "source": [
    "## Claim frequency in the recent year"
   ]
  },
  {
   "cell_type": "code",
   "execution_count": 13,
   "metadata": {},
   "outputs": [
    {
     "data": {
      "text/plain": [
       "count    5000.000000\n",
       "mean       15.037200\n",
       "std        10.081654\n",
       "min         0.000000\n",
       "25%         6.000000\n",
       "50%        14.000000\n",
       "75%        23.000000\n",
       "max        35.000000\n",
       "Name: Months Since Last Claim, dtype: float64"
      ]
     },
     "execution_count": 13,
     "metadata": {},
     "output_type": "execute_result"
    }
   ],
   "source": [
    "month_lastclaim=viable[\"Months Since Last Claim\"]\n",
    "month_lastclaim.describe()"
   ]
  },
  {
   "cell_type": "code",
   "execution_count": 22,
   "metadata": {},
   "outputs": [
    {
     "name": "stdout",
     "output_type": "stream",
     "text": [
      "2129\n",
      "The claim frequency1 is 0.4258\n"
     ]
    }
   ],
   "source": [
    "last_claims=viable[month_lastclaim<12]\n",
    "number_of_claims=last_claims.shape[0]\n",
    "print(number_of_claims)\n",
    "claim_frequency=number_of_claims/5000\n",
    "print(\"The claim frequency1 is \"+ str(claim_frequency))\n",
    "#last_claims_2=viable[(month_lastclaim>=12)&(month_lastclaim<24)]\n",
    "#number_of_claims_2=last_claims_2.shape[0]\n",
    "#print(number_of_claims_2)\n",
    "#claim_frequency2=number_of_claims_2/5000\n",
    "#print(\"The claim frequency2 is \"+ str(claim_frequency2))\n",
    "#last_claims3=viable[month_lastclaim>=24]\n",
    "#number_of_claims3=last_claims3.shape[0]\n",
    "#print(number_of_claims3)\n",
    "#claim_frequency3=number_of_claims3/5000\n",
    "#print(\"The claim frequency3 is \"+ str(claim_frequency3))"
   ]
  },
  {
   "cell_type": "markdown",
   "metadata": {},
   "source": [
    "## Claim Reason"
   ]
  },
  {
   "cell_type": "code",
   "execution_count": 15,
   "metadata": {},
   "outputs": [
    {
     "name": "stdout",
     "output_type": "stream",
     "text": [
      "Collision       40.90\n",
      "Hail            32.40\n",
      "Scratch/Dent    15.06\n",
      "Other           11.64\n",
      "Name: Claim Reason, dtype: float64\n"
     ]
    }
   ],
   "source": [
    "reason=viable[\"Claim Reason\"]\n",
    "percentage=reason.value_counts()/5000*100\n",
    "print(percentage)"
   ]
  },
  {
   "cell_type": "markdown",
   "metadata": {},
   "source": [
    "The main reason for filing a claim is Collision(40.9%), the second is Hail(32.4%), while Scartch/Dent and Other accounts for the rest"
   ]
  },
  {
   "cell_type": "markdown",
   "metadata": {},
   "source": [
    "## Claim and Location"
   ]
  },
  {
   "cell_type": "code",
   "execution_count": 16,
   "metadata": {},
   "outputs": [
    {
     "name": "stdout",
     "output_type": "stream",
     "text": [
      "Collision distribution\n",
      "Suburban    1280\n",
      "Rural        406\n",
      "Urban        359\n",
      "Name: Location Code, dtype: int64\n",
      "\n",
      "Hail distribution\n",
      "Suburban    1035\n",
      "Rural        309\n",
      "Urban        276\n",
      "Name: Location Code, dtype: int64\n"
     ]
    }
   ],
   "source": [
    "claim_col=viable.loc[reason==\"Collision\",\"Location Code\"]\n",
    "print(\"Collision distribution\")\n",
    "print(claim_col.value_counts())\n",
    "claim_hail=viable.loc[reason==\"Hail\",\"Location Code\"]\n",
    "print(\"\\n\"+ \"Hail distribution\")\n",
    "print(claim_hail.value_counts())"
   ]
  },
  {
   "cell_type": "markdown",
   "metadata": {},
   "source": [
    "Most claims happens in Suburban area, so we can consider raising the premium when we have a client from suburban area"
   ]
  },
  {
   "cell_type": "markdown",
   "metadata": {},
   "source": [
    "# Customer Service/ Sales Channel"
   ]
  },
  {
   "cell_type": "markdown",
   "metadata": {},
   "source": [
    "## Complaints"
   ]
  },
  {
   "cell_type": "code",
   "execution_count": 17,
   "metadata": {},
   "outputs": [
    {
     "name": "stdout",
     "output_type": "stream",
     "text": [
      "The number of complaints is 1991\n",
      "The average complaints per client  0.3982\n"
     ]
    }
   ],
   "source": [
    "complaints=viable[\"Number of Open Complaints\"]\n",
    "number_complaints=complaints.sum()\n",
    "print(\"The number of complaints is\",number_complaints)\n",
    "print(\"The average complaints per client \", number_complaints/5000)"
   ]
  },
  {
   "cell_type": "markdown",
   "metadata": {},
   "source": [
    "The number of complaints of the company is too high. According to research by [Esteban Kolsky](https://www.slideshare.net/ekolsky/cx-for-executives), 13% of unhappy customers will share their complaint with 15 or more people. So settling open complaints is significant to keep our current customers as well as attracting new customers."
   ]
  },
  {
   "cell_type": "markdown",
   "metadata": {},
   "source": [
    "## Sales Channel"
   ]
  },
  {
   "cell_type": "code",
   "execution_count": 18,
   "metadata": {},
   "outputs": [
    {
     "data": {
      "text/plain": [
       "Agent          1903\n",
       "Branch         1437\n",
       "Call Center     961\n",
       "Web             699\n",
       "Name: Sales Channel, dtype: int64"
      ]
     },
     "execution_count": 18,
     "metadata": {},
     "output_type": "execute_result"
    }
   ],
   "source": [
    "sales=viable[\"Sales Channel\"]\n",
    "sales.value_counts()"
   ]
  },
  {
   "cell_type": "markdown",
   "metadata": {},
   "source": [
    "Majority of our customers are introduced to our company through agents. As Covid-19 has a huge impact on people's life, marketing in-person has become less welcomed. Also, this can be costly as we need to hire more people in order for faster expansion. I recommend that we should invest in web development and online advertisemnet. "
   ]
  }
 ],
 "metadata": {
  "kernelspec": {
   "display_name": "Python 3",
   "language": "python",
   "name": "python3"
  },
  "language_info": {
   "codemirror_mode": {
    "name": "ipython",
    "version": 3
   },
   "file_extension": ".py",
   "mimetype": "text/x-python",
   "name": "python",
   "nbconvert_exporter": "python",
   "pygments_lexer": "ipython3",
   "version": "3.7.6"
  }
 },
 "nbformat": 4,
 "nbformat_minor": 4
}
